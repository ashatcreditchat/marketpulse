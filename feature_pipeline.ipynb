{
 "cells": [
  {
   "cell_type": "code",
   "execution_count": null,
   "metadata": {},
   "outputs": [],
   "source": [
    "import os\n",
    "import pandas as pd\n",
    "from datasets import load_dataset\n",
    "from transformers import GPT2TokenizerFast\n",
    "import torch\n",
    "import hopsworks\n",
    "from sklearn.model_selection import train_test_split"
   ]
  },
  {
   "cell_type": "code",
   "execution_count": null,
   "metadata": {},
   "outputs": [],
   "source": [
    "tokenizer = GPT2TokenizerFast.from_pretrained('Xenova/text-embedding-ada-002')"
   ]
  },
  {
   "cell_type": "code",
   "execution_count": null,
   "metadata": {},
   "outputs": [],
   "source": [
    "def load_data(file_path):\n",
    "    data = pd.read_csv(file_path)\n",
    "    return data\n",
    "\n",
    "def get_embedding(dataset, embedding_object):\n",
    "    embeddings = []\n",
    "    for data in dataset[\"text\"]:\n",
    "        embedded_text = embedding_object.encode(data)\n",
    "        embeddings.append(embedded_text)\n",
    "\n",
    "    dataset_embedded = dataset.copy()\n",
    "    dataset_embedded[\"embeddings\"] = embeddings\n",
    "    dataset_embedded = dataset_embedded.drop(columns=[\"text\"])\n",
    "    return dataset_embedded"
   ]
  },
  {
   "cell_type": "code",
   "execution_count": null,
   "metadata": {},
   "outputs": [],
   "source": [
    "financial_phrase_bank_df = load_data(os.path.join(\"base-data\", \"FinancialPhraseBank\", \"all-data-75-above.csv\"))\n",
    "zeroshot_train_df = load_data(os.path.join(\"base-data\", \"twitter-financial-news-sentiment\", \"sent_train.csv\"))\n",
    "zeroshot_test_df = load_data(os.path.join(\"base-data\", \"twitter-financial-news-sentiment\", \"sent_test.csv\"))"
   ]
  },
  {
   "cell_type": "code",
   "execution_count": null,
   "metadata": {},
   "outputs": [],
   "source": [
    "\n",
    "# Assuming df1, df2, df3 are your dataframes\n",
    "df = pd.concat([financial_phrase_bank_df, zeroshot_train_df, zeroshot_test_df])\n",
    "\n",
    "# Get the count of each label\n",
    "label_counts = df['label'].value_counts()\n",
    "\n",
    "# Split the data\n",
    "X_train, X_test, y_train, y_test = train_test_split(df['text'], df['label'], test_size=0.2, stratify=df['label'])\n",
    "\n",
    "# Now, X_train and y_train contain the training data and their corresponding labels\n",
    "# X_test and y_test contain the test data and their corresponding labels"
   ]
  },
  {
   "cell_type": "code",
   "execution_count": null,
   "metadata": {},
   "outputs": [],
   "source": [
    "y_train_df = pd.DataFrame(y_train)\n",
    "train_value_counts= y_train_df.value_counts()\n",
    "# Get the percentage of each label in the training data\n",
    "print(train_value_counts / train_value_counts.sum())\n",
    "\n",
    "y_test_df = pd.DataFrame(y_test)\n",
    "test_value_counts= y_test_df.value_counts()\n",
    "print(test_value_counts / test_value_counts.sum())\n"
   ]
  },
  {
   "cell_type": "code",
   "execution_count": null,
   "metadata": {},
   "outputs": [],
   "source": [
    "train_dataset_df = pd.concat([X_train, y_train], axis=1)\n",
    "test_dataset_df = pd.concat([X_test, y_test], axis=1)\n",
    "\n",
    "train_dataset_df_embedded = get_embedding(train_dataset_df, tokenizer)\n",
    "test_dataset_df_embedded = get_embedding(test_dataset_df, tokenizer)\n",
    "\n",
    "train_dataset_df_embedded"
   ]
  },
  {
   "cell_type": "code",
   "execution_count": null,
   "metadata": {},
   "outputs": [],
   "source": [
    "hopsworks_project = hopsworks.login() \n",
    "fs = hopsworks_project.get_feature_store()"
   ]
  },
  {
   "cell_type": "code",
   "execution_count": null,
   "metadata": {},
   "outputs": [],
   "source": [
    "fg_train = fs.get_or_create_feature_group(name=\"news_sentiment_traindata\", version=1, description=\"Training data and labels for financial news sentiment prediction model\", primary_key=[\"label\", \"embeddings\"], online_enabled=True)\n",
    "fg_train.insert(train_dataset_df_embedded)"
   ]
  },
  {
   "cell_type": "code",
   "execution_count": null,
   "metadata": {},
   "outputs": [],
   "source": [
    "fg_test = fs.get_or_create_feature_group(name=\"news_sentiment_testdata\", version=1, description=\"Test data and labels for financial news sentiment prediction model\", primary_key=[\"label\", \"embeddings\"], online_enabled=True)\n",
    "fg_test.insert(test_dataset_df_embedded)"
   ]
  }
 ],
 "metadata": {
  "kernelspec": {
   "display_name": "news-sentiment",
   "language": "python",
   "name": "python3"
  },
  "language_info": {
   "codemirror_mode": {
    "name": "ipython",
    "version": 3
   },
   "file_extension": ".py",
   "mimetype": "text/x-python",
   "name": "python",
   "nbconvert_exporter": "python",
   "pygments_lexer": "ipython3",
   "version": "3.8.18"
  }
 },
 "nbformat": 4,
 "nbformat_minor": 2
}
